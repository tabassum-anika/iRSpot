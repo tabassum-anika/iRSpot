{
 "cells": [
  {
   "cell_type": "code",
   "execution_count": 38,
   "metadata": {},
   "outputs": [],
   "source": [
    "import warnings; warnings.filterwarnings(\"ignore\")"
   ]
  },
  {
   "cell_type": "code",
   "execution_count": 39,
   "metadata": {},
   "outputs": [
    {
     "name": "stdout",
     "output_type": "stream",
     "text": [
      "1.2.0\n"
     ]
    }
   ],
   "source": [
    "import numpy as np\n",
    "import pandas as pd\n",
    "import xgboost; print(xgboost.__version__)\n",
    "from sklearn.utils import shuffle\n",
    "from sklearn.model_selection import train_test_split\n",
    "from sklearn.preprocessing import StandardScaler\n",
    "from sklearn.metrics import accuracy_score"
   ]
  },
  {
   "cell_type": "markdown",
   "metadata": {},
   "source": [
    "</br>\n",
    "\n",
    "* Loading Arrays"
   ]
  },
  {
   "cell_type": "code",
   "execution_count": 40,
   "metadata": {},
   "outputs": [],
   "source": [
    "X_kmer = np.load('K-mer.npy')\n",
    "X_revk = np.load('rev-k-mer.npy')\n",
    "X_gapk = np.load('gapped_k_mer.npy')"
   ]
  },
  {
   "cell_type": "markdown",
   "metadata": {},
   "source": [
    "</br>\n",
    "\n",
    "* Generating Y"
   ]
  },
  {
   "cell_type": "code",
   "execution_count": 41,
   "metadata": {},
   "outputs": [
    {
     "name": "stdout",
     "output_type": "stream",
     "text": [
      "(1081,)\n"
     ]
    }
   ],
   "source": [
    "Y  = [1 for i in range(490)]\n",
    "Y += [0 for i in range(591)]\n",
    "Y = np.array(Y)\n",
    "print(Y.shape)"
   ]
  },
  {
   "cell_type": "markdown",
   "metadata": {},
   "source": [
    "</br>\n",
    "\n",
    "* Shuffle"
   ]
  },
  {
   "cell_type": "code",
   "execution_count": 42,
   "metadata": {},
   "outputs": [
    {
     "name": "stdout",
     "output_type": "stream",
     "text": [
      "(1081, 340)\n",
      "(1081,)\n"
     ]
    }
   ],
   "source": [
    "X_kmer, X_revk, X_gapk, Y = shuffle(X_kmer, X_revk, X_gapk, Y, random_state=0)\n",
    "\n",
    "print(X_kmer.shape)\n",
    "print(Y.shape)"
   ]
  },
  {
   "cell_type": "markdown",
   "metadata": {},
   "source": [
    "</br>\n",
    "\n",
    "* Test-Train Split"
   ]
  },
  {
   "cell_type": "code",
   "execution_count": 43,
   "metadata": {},
   "outputs": [],
   "source": [
    "Xktrain, Xktest, Yktrain, Yktest = train_test_split(X_kmer, Y, test_size=0.30, random_state=101)\n",
    "Xrtrain, Xrtest, Yrtrain, Yrtest = train_test_split(X_revk, Y, test_size=0.30, random_state=101)\n",
    "Xgtrain, Xgtest, Ygtrain, Ygtest = train_test_split(X_gapk, Y, test_size=0.30, random_state=101)"
   ]
  },
  {
   "cell_type": "markdown",
   "metadata": {},
   "source": [
    "</br>\n",
    "\n",
    "* Scaling"
   ]
  },
  {
   "cell_type": "code",
   "execution_count": 44,
   "metadata": {},
   "outputs": [],
   "source": [
    "scaler = StandardScaler()\n",
    "Xktrain = scaler.fit_transform(Xktrain)\n",
    "Xktest = scaler.transform(Xktest)"
   ]
  },
  {
   "cell_type": "code",
   "execution_count": 45,
   "metadata": {},
   "outputs": [],
   "source": [
    "scaler = StandardScaler()\n",
    "Xrtrain = scaler.fit_transform(Xrtrain)\n",
    "Xrtest = scaler.transform(Xrtest)"
   ]
  },
  {
   "cell_type": "code",
   "execution_count": 46,
   "metadata": {},
   "outputs": [],
   "source": [
    "scaler = StandardScaler()\n",
    "Xgtrain = scaler.fit_transform(Xgtrain)\n",
    "Xgtest = scaler.transform(Xgtest)"
   ]
  },
  {
   "cell_type": "markdown",
   "metadata": {},
   "source": [
    "</br>\n",
    "\n",
    "* Feature Selection"
   ]
  },
  {
   "cell_type": "code",
   "execution_count": 47,
   "metadata": {},
   "outputs": [
    {
     "data": {
      "text/plain": [
       "XGBClassifier(base_score=0.5, booster='gbtree', colsample_bylevel=1,\n",
       "              colsample_bynode=1, colsample_bytree=1, gamma=0, gpu_id=-1,\n",
       "              importance_type='gain', interaction_constraints='',\n",
       "              learning_rate=0.300000012, max_delta_step=0, max_depth=6,\n",
       "              min_child_weight=1, missing=nan, monotone_constraints='()',\n",
       "              n_estimators=100, n_jobs=0, num_parallel_tree=1,\n",
       "              objective='binary:logistic', random_state=0, reg_alpha=0,\n",
       "              reg_lambda=1, scale_pos_weight=1, subsample=1,\n",
       "              tree_method='exact', validate_parameters=1, verbosity=None)"
      ]
     },
     "execution_count": 47,
     "metadata": {},
     "output_type": "execute_result"
    }
   ],
   "source": [
    "modelk = xgboost.XGBClassifier()\n",
    "modelk.fit(Xktrain, Yktrain)\n",
    "\n",
    "modelr = xgboost.XGBClassifier()\n",
    "modelr.fit(Xrtrain, Yrtrain)\n",
    "\n",
    "modelg = xgboost.XGBClassifier()\n",
    "modelg.fit(Xgtrain, Ygtrain)"
   ]
  },
  {
   "cell_type": "code",
   "execution_count": 48,
   "metadata": {},
   "outputs": [],
   "source": [
    "importantFeatures = modelk.feature_importances_\n",
    "SFk = importantFeatures.argsort()[::-1][:int(len(importantFeatures)*0.50)]\n",
    "\n",
    "importantFeatures = modelr.feature_importances_\n",
    "SFr = importantFeatures.argsort()[::-1][:int(len(importantFeatures)*0.50)]\n",
    "\n",
    "importantFeatures = modelg.feature_importances_\n",
    "SFg = importantFeatures.argsort()[::-1][:int(len(importantFeatures)*0.50)]"
   ]
  },
  {
   "cell_type": "code",
   "execution_count": 49,
   "metadata": {},
   "outputs": [
    {
     "data": {
      "text/plain": [
       "array([293,  10,  13,   1, 141, 109,  72, 113, 230, 232, 262,   2, 194,\n",
       "       131,  60, 226, 267, 336, 183, 171,   8,  31, 178,  42, 132, 103,\n",
       "       217, 264, 162,  16, 191,  90, 321, 328, 312, 258,  45, 281, 195,\n",
       "       196, 174, 306, 337, 266, 135, 286,  58, 148,  75, 168, 124,  66,\n",
       "       270, 129, 139,  91, 242, 176,   3, 151, 252,  43, 233, 333, 156,\n",
       "       185,  40,  12,  29,  26,  80, 107, 147,   7,  20, 325,  14, 105,\n",
       "        99, 298,  70,  21,  61,  41,  83,  34,  65, 138, 137,  19, 173,\n",
       "       106, 209,  77, 301,  17,   0,  92,  24, 255,   4,  39, 245, 244,\n",
       "       179, 120, 204, 319, 133,  73,  67, 278, 303, 329, 207,  74, 199,\n",
       "       284,  84,  30,  23,  22, 305,  44,  63, 210,  28, 330, 172,  81,\n",
       "        94, 102, 159, 136, 308, 260, 316, 299, 275, 269, 127, 259,  95,\n",
       "       152,  38, 119, 224, 221,  55, 323,  48, 111,  35, 161,  53, 250,\n",
       "        27,  76, 307,  79,  18, 318, 283, 205, 214, 121,  97, 320,  78,\n",
       "       213])"
      ]
     },
     "execution_count": 49,
     "metadata": {},
     "output_type": "execute_result"
    }
   ],
   "source": [
    "SFk"
   ]
  },
  {
   "cell_type": "code",
   "execution_count": 50,
   "metadata": {},
   "outputs": [
    {
     "data": {
      "text/plain": [
       "array([ 10, 158, 317,  45, 268,   2, 239, 256,  13, 156, 236, 221, 143,\n",
       "       154,  27, 231,  28, 127,   1, 126, 161,  91,  58,  37,  90, 297,\n",
       "        78, 153,  16, 138,  18,  48,  76, 106, 176, 174, 181,  43,   7,\n",
       "       338,   9,   8, 146, 108, 276,  59, 286, 212, 263, 327, 281, 250,\n",
       "        21,   3, 208, 308,  30, 119, 135,  34, 326,  85, 255, 188,  87,\n",
       "        83, 131, 216, 309, 264, 117,  57,  19, 229,  73,   4, 260, 306,\n",
       "         0,  25,  17,  53,  46,  51, 191, 273,  12,  44,  35, 253,  52,\n",
       "        89, 321, 155,  67, 139, 205,  79, 107, 102,  68, 262,  94, 238,\n",
       "       104, 307, 213,  99, 304, 230,  47,  32,  60, 165, 168, 329,  75,\n",
       "       257,  77,  39, 190, 323, 217, 280, 101, 246, 311, 209, 299, 197,\n",
       "       183,  62,  20, 271,  55, 248, 207, 334, 265, 312,  14,  36,  65,\n",
       "       318, 179,  40, 322, 148, 147, 291,  95, 111,  70, 136,  42, 305,\n",
       "        24, 337, 123, 290, 259, 226,  29, 172, 214, 228, 296, 328, 227,\n",
       "       244])"
      ]
     },
     "execution_count": 50,
     "metadata": {},
     "output_type": "execute_result"
    }
   ],
   "source": [
    "SFr"
   ]
  },
  {
   "cell_type": "code",
   "execution_count": 51,
   "metadata": {},
   "outputs": [
    {
     "data": {
      "text/plain": [
       "array([41,  6,  9, 44, 19, 21, 12, 60, 25,  5, 35, 57, 26, 42, 43,  2, 71,\n",
       "       34, 32, 10, 58, 74, 51, 73, 31, 37, 30, 38, 53, 69, 49, 65, 47, 76,\n",
       "        3, 67, 22,  4, 55, 77])"
      ]
     },
     "execution_count": 51,
     "metadata": {},
     "output_type": "execute_result"
    }
   ],
   "source": [
    "SFg"
   ]
  },
  {
   "cell_type": "markdown",
   "metadata": {},
   "source": [
    "</br>\n",
    "\n",
    "* Feature Elimination"
   ]
  },
  {
   "cell_type": "code",
   "execution_count": 52,
   "metadata": {},
   "outputs": [],
   "source": [
    "Xktrain = Xktrain[:,SFk]\n",
    "Xrtrain = Xrtrain[:,SFr]\n",
    "Xgtrain = Xgtrain[:,SFg]"
   ]
  },
  {
   "cell_type": "code",
   "execution_count": 53,
   "metadata": {},
   "outputs": [],
   "source": [
    "Xktest = Xktest[:,SFk]\n",
    "Xrtest = Xrtest[:,SFr]\n",
    "Xgtest = Xgtest[:,SFg]"
   ]
  },
  {
   "cell_type": "code",
   "execution_count": 54,
   "metadata": {},
   "outputs": [],
   "source": [
    "Xtrain = np.concatenate((Xktrain,Xrtrain, Xgtrain), axis=1)\n",
    "Xtest = np.concatenate((Xktest, Xrtest, Xgtest), axis=1)"
   ]
  },
  {
   "cell_type": "markdown",
   "metadata": {},
   "source": [
    "</br>\n",
    "\n",
    "\n",
    "* Prediction"
   ]
  },
  {
   "cell_type": "code",
   "execution_count": 56,
   "metadata": {},
   "outputs": [],
   "source": [
    "model = xgboost.XGBClassifier()\n",
    "model.fit(Xtrain, Yktrain)\n",
    "Yp = model.predict(Xtest)"
   ]
  },
  {
   "cell_type": "code",
   "execution_count": 57,
   "metadata": {},
   "outputs": [
    {
     "name": "stdout",
     "output_type": "stream",
     "text": [
      "0.7169230769230769\n"
     ]
    }
   ],
   "source": [
    "print(accuracy_score(y_true=Yktest, y_pred=Yp))"
   ]
  },
  {
   "cell_type": "code",
   "execution_count": null,
   "metadata": {},
   "outputs": [],
   "source": []
  }
 ],
 "metadata": {
  "kernelspec": {
   "display_name": "Python 3",
   "language": "python",
   "name": "python3"
  },
  "language_info": {
   "codemirror_mode": {
    "name": "ipython",
    "version": 3
   },
   "file_extension": ".py",
   "mimetype": "text/x-python",
   "name": "python",
   "nbconvert_exporter": "python",
   "pygments_lexer": "ipython3",
   "version": "3.7.4"
  }
 },
 "nbformat": 4,
 "nbformat_minor": 4
}
